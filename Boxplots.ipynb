{
 "cells": [
  {
   "cell_type": "markdown",
   "metadata": {},
   "source": [
    "# History of the Boxplot\n",
    "\n",
    "The Box-and-whisker plot, also named boxplot or box plot, is a graph that summarizes numerical data based on quartiles dividing a data set into fourths. [1]\n",
    "\n",
    "The box-and-whisker plot is useful for many reasons. Some of which include: \n",
    "1.\tFor revealing the central tendency and variability of a data set, \n",
    "2.\tThe distribution of the data, in particular the symmetry or skewness,\n",
    "3.\tVisualising the presence of outliers. \n",
    "4.\tIt is also a powerful graphical technique for comparing samples from several different populations. \n",
    "\n",
    "It was invented in the 1970s by American statistician John Wilder Tukey [1]\n",
    "The boxplot is a compact way of summarizing and visualizing the distribution of a set of continuous data. According to Sarah Boslaugh [2], the exact methods used to construct boxplots vary from one software package to another. However, they are always constructed to highlight the following important characteristics of a data set: \n",
    "1.\tThe median, \n",
    "2.\tThe first and third quartiles (and hence the interquartile range as well), \n",
    "3.\tThe minimum and maximum.\n",
    "\n",
    "The central tendency, range, symmetry, and presence of outliers in a data set are quickly visible at a glance from a boxplot. While side-by-side boxplots make it easy to make comparisons among different distributions of data. Boxplots use robust summary statistics that are always located at actual data points and are quickly computable. They are particularly useful for exploratory data analysis comparing distributions across groups. [2]\n",
    "\n"
   ]
  },
  {
   "cell_type": "markdown",
   "metadata": {},
   "source": [
    "# Situations Where Box Plots Are Used\n",
    "\n",
    "Box plots are valuable for the visualization of the centre, spread and shape of a distribution. [3]\n",
    "\n",
    "The Centre:\n",
    "-\tThe vertical line inside the box, i.e. the median, indicates the centre of the distribution.\n",
    "\n",
    "\n",
    "The Spread:\n",
    "-\tThe width of the box, i.e. the interquartile range, indicates the spread of values in the distribution.\n",
    "\n",
    "The Shape:\n",
    "-\tHigh density corresponds to adjacent box plot values being close together. If the distribution is skewed, the extreme and quartile on one side are closer to the median than the extreme and quartile on the other side. \n",
    "\n",
    "Boxplots are also beneficial for displaying potential outliers within the dataset, if any. [4] \n"
   ]
  },
  {
   "cell_type": "markdown",
   "metadata": {},
   "source": [
    "# References\n",
    "\n",
    "1.\thttps://www.britannica.com/science/box-and-whisker-plot\n",
    "2.\thttps://www.oreilly.com/library/view/statistics-in-a/9781449361129/ch04.html\n",
    "3.\thttp://www-ist.massey.ac.nz/dstirlin/CAST/CAST/HboxPlot/boxPlot3.html\n",
    "4.\thttps://www150.statcan.gc.ca/n1/edu/power-pouvoir/ch12/5214889-eng.htm\n"
   ]
  }
 ],
 "metadata": {
  "kernelspec": {
   "display_name": "Python 3",
   "language": "python",
   "name": "python3"
  },
  "language_info": {
   "codemirror_mode": {
    "name": "ipython",
    "version": 3
   },
   "file_extension": ".py",
   "mimetype": "text/x-python",
   "name": "python",
   "nbconvert_exporter": "python",
   "pygments_lexer": "ipython3",
   "version": "3.6.3"
  }
 },
 "nbformat": 4,
 "nbformat_minor": 2
}
