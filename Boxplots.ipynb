{
 "cells": [
  {
   "cell_type": "markdown",
   "metadata": {},
   "source": [
    "# History of the Boxplot\n",
    "\n",
    "The Box-and-whisker plot, also named boxplot or box plot, is a graph that summarizes numerical data based on quartiles dividing a data set into fourths. [1]\n",
    "\n",
    "The box-and-whisker plot is useful for many reasons. Some of which include: \n",
    "1.\tFor revealing the central tendency and variability of a data set, \n",
    "2.\tThe distribution of the data, in particular the symmetry or skewness,\n",
    "3.\tVisualising the presence of outliers. \n",
    "4.\tIt is also a powerful graphical technique for comparing samples from several different populations. \n",
    "\n",
    "It was invented in the 1970s by American statistician John Wilder Tukey [1]\n",
    "The boxplot is a compact way of summarizing and visualizing the distribution of a set of continuous data. According to Sarah Boslaugh [2], the exact methods used to construct boxplots vary from one software package to another. However, they are always constructed to highlight the following important characteristics of a data set: \n",
    "1.\tThe median, \n",
    "2.\tThe first and third quartiles (and hence the interquartile range as well), \n",
    "3.\tThe minimum and maximum.\n",
    "\n",
    "The central tendency, range, symmetry, and presence of outliers in a data set are quickly visible at a glance from a boxplot. While side-by-side boxplots make it easy to make comparisons among different distributions of data. Boxplots use robust summary statistics that are always located at actual data points and are quickly computable. They are particularly useful for exploratory data analysis comparing distributions across groups. [2]\n",
    "\n"
   ]
  },
  {
   "cell_type": "markdown",
   "metadata": {},
   "source": [
    "# Situations Where Box Plots Are Used\n",
    "\n",
    "Box plots are valuable for the visualization of the centre, spread and shape of a distribution. [3]\n",
    "\n",
    "The Centre:\n",
    "-\tThe vertical line inside the box, i.e. the median, indicates the centre of the distribution.\n",
    "\n",
    "\n",
    "The Spread:\n",
    "-\tThe width of the box, i.e. the interquartile range, indicates the spread of values in the distribution.\n",
    "\n",
    "The Shape:\n",
    "-\tHigh density corresponds to adjacent box plot values being close together. If the distribution is skewed, the extreme and quartile on one side are closer to the median than the extreme and quartile on the other side. \n",
    "\n",
    "Boxplots are also beneficial for displaying potential outliers within the dataset, if any. [4] \n"
   ]
  },
  {
   "cell_type": "markdown",
   "metadata": {},
   "source": [
    "# The Use of Boxplots - Data Demonstration"
   ]
  },
  {
   "cell_type": "code",
   "execution_count": 32,
   "metadata": {
    "collapsed": true
   },
   "outputs": [],
   "source": [
    "import numpy as np\n",
    "import seaborn as sns\n",
    "import matplotlib.pyplot as plt\n",
    "import pandas as pd\n",
    "\n",
    "%matplotlib inline"
   ]
  },
  {
   "cell_type": "code",
   "execution_count": 33,
   "metadata": {
    "scrolled": false
   },
   "outputs": [
    {
     "name": "stdout",
     "output_type": "stream",
     "text": [
      "        Sex                Age  Year  Month  Register\n",
      "0      Male     Under 25 years  2015      1       383\n",
      "1      Male     Under 25 years  2015      2       374\n",
      "2      Male     Under 25 years  2015      3       380\n",
      "3      Male     Under 25 years  2015      4       374\n",
      "4      Male     Under 25 years  2015      5       375\n",
      "5      Male     Under 25 years  2015      6       389\n",
      "6      Male     Under 25 years  2015      7       399\n",
      "7      Male     Under 25 years  2015      8       413\n",
      "8      Male     Under 25 years  2015      9       366\n",
      "9      Male     Under 25 years  2015     10       335\n",
      "10     Male     Under 25 years  2015     11       324\n",
      "11     Male     Under 25 years  2015     12       335\n",
      "12     Male     Under 25 years  2016      1       351\n",
      "13     Male     Under 25 years  2016      2       336\n",
      "14     Male     Under 25 years  2016      3       323\n",
      "15     Male     Under 25 years  2016      4       313\n",
      "16     Male     Under 25 years  2016      5       325\n",
      "17     Male     Under 25 years  2016      6       315\n",
      "18     Male     Under 25 years  2016      7       332\n",
      "19     Male     Under 25 years  2016      8       330\n",
      "20     Male     Under 25 years  2016      9       282\n",
      "21     Male     Under 25 years  2016     10       275\n",
      "22     Male     Under 25 years  2016     11       275\n",
      "23     Male     Under 25 years  2016     12       280\n",
      "24     Male     Under 25 years  2017      1       287\n",
      "25     Male     Under 25 years  2017      2       293\n",
      "26     Male     Under 25 years  2017      3       267\n",
      "27     Male     Under 25 years  2017      4       259\n",
      "28     Male     Under 25 years  2017      5       287\n",
      "29     Male     Under 25 years  2017      6       274\n",
      "..      ...                ...   ...    ...       ...\n",
      "162  Female  25 years and over  2016      7      1669\n",
      "163  Female  25 years and over  2016      8      1683\n",
      "164  Female  25 years and over  2016      9      1422\n",
      "165  Female  25 years and over  2016     10      1366\n",
      "166  Female  25 years and over  2016     11      1379\n",
      "167  Female  25 years and over  2016     12      1394\n",
      "168  Female  25 years and over  2017      1      1396\n",
      "169  Female  25 years and over  2017      2      1380\n",
      "170  Female  25 years and over  2017      3      1323\n",
      "171  Female  25 years and over  2017      4      1317\n",
      "172  Female  25 years and over  2017      5      1366\n",
      "173  Female  25 years and over  2017      6      1405\n",
      "174  Female  25 years and over  2017      7      1474\n",
      "175  Female  25 years and over  2017      8      1423\n",
      "176  Female  25 years and over  2017      9      1256\n",
      "177  Female  25 years and over  2017     10      1247\n",
      "178  Female  25 years and over  2017     11      1224\n",
      "179  Female  25 years and over  2017     12      1243\n",
      "180  Female  25 years and over  2018      1      1239\n",
      "181  Female  25 years and over  2018      2      1213\n",
      "182  Female  25 years and over  2018      3      1213\n",
      "183  Female  25 years and over  2018      4      1181\n",
      "184  Female  25 years and over  2018      5      1210\n",
      "185  Female  25 years and over  2018      6      1224\n",
      "186  Female  25 years and over  2018      7      1296\n",
      "187  Female  25 years and over  2018      8      1224\n",
      "188  Female  25 years and over  2018      9      1084\n",
      "189  Female  25 years and over  2018     10      1054\n",
      "190  Female  25 years and over  2018     11      1042\n",
      "191  Female  25 years and over  2018     12      1042\n",
      "\n",
      "[192 rows x 5 columns]\n"
     ]
    }
   ],
   "source": [
    "# Import csv - Raw Data - [5]\n",
    "\n",
    "df=pd.read_csv('Sligo_Register.csv',header=[0])\n",
    "\n",
    "print(df)"
   ]
  },
  {
   "cell_type": "code",
   "execution_count": 50,
   "metadata": {},
   "outputs": [
    {
     "data": {
      "text/plain": [
       "<function matplotlib.pyplot.show>"
      ]
     },
     "execution_count": 50,
     "metadata": {},
     "output_type": "execute_result"
    },
    {
     "data": {
      "image/png": "[encoded data removed]",
      "text/plain": [
       "<Figure size 864x432 with 1 Axes>"
      ]
     },
     "metadata": {},
     "output_type": "display_data"
    }
   ],
   "source": [
    "plt.figure(figsize=(12,6))\n",
    "v = sns.boxplot(x='Sex', y='Register', data=df, palette=\"Set2\");\n",
    "\n",
    "v.set(title=\"Total Number of People Registered by Sex\")\n",
    "\n",
    "plt.show"
   ]
  },
  {
   "cell_type": "code",
   "execution_count": 53,
   "metadata": {},
   "outputs": [
    {
     "data": {
      "text/plain": [
       "<function matplotlib.pyplot.show>"
      ]
     },
     "execution_count": 53,
     "metadata": {},
     "output_type": "execute_result"
    },
    {
     "data": {
      "image/png": "[encoded data removed]",
      "text/plain": [
       "<Figure size 864x432 with 1 Axes>"
      ]
     },
     "metadata": {},
     "output_type": "display_data"
    }
   ],
   "source": [
    "plt.figure(figsize=(12,6))\n",
    "\n",
    "v = sns.boxplot(x=\"Year\", y=\"Register\", hue=\"Sex\",\n",
    "                data=df,palette=\"Set2\");\n",
    "\n",
    "v.set(title=\"Total Number of People Registered by Sex & Year\")\n",
    "\n",
    "plt.show"
   ]
  },
  {
   "cell_type": "markdown",
   "metadata": {},
   "source": [
    "# References\n",
    "\n",
    "1.\thttps://www.britannica.com/science/box-and-whisker-plot\n",
    "2.\thttps://www.oreilly.com/library/view/statistics-in-a/9781449361129/ch04.html\n",
    "3.\thttp://www-ist.massey.ac.nz/dstirlin/CAST/CAST/HboxPlot/boxPlot3.html\n",
    "4.\thttps://www150.statcan.gc.ca/n1/edu/power-pouvoir/ch12/5214889-eng.htm\n",
    "5.  https://www.cso.ie/px/pxeirestat/statire/SelectVarVal/saveselections.asp\n",
    "6.  https://pandas.pydata.org/pandas-docs/stable/generated/pandas.DataFrame.drop.html"
   ]
  }
 ],
 "metadata": {
  "kernelspec": {
   "display_name": "Python 3",
   "language": "python",
   "name": "python3"
  },
  "language_info": {
   "codemirror_mode": {
    "name": "ipython",
    "version": 3
   },
   "file_extension": ".py",
   "mimetype": "text/x-python",
   "name": "python",
   "nbconvert_exporter": "python",
   "pygments_lexer": "ipython3",
   "version": "3.6.3"
  }
 },
 "nbformat": 4,
 "nbformat_minor": 2
}
